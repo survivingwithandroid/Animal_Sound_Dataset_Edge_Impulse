{
  "nbformat": 4,
  "nbformat_minor": 0,
  "metadata": {
    "colab": {
      "name": "Arduino Animal Sound.ipynb",
      "provenance": [],
      "collapsed_sections": [],
      "toc_visible": true,
      "authorship_tag": "ABX9TyOOEIh4mrcAHhgr6oDJAvyH",
      "include_colab_link": true
    },
    "kernelspec": {
      "name": "python3",
      "display_name": "Python 3"
    }
  },
  "cells": [
    {
      "cell_type": "markdown",
      "metadata": {
        "id": "view-in-github",
        "colab_type": "text"
      },
      "source": [
        "<a href=\"https://colab.research.google.com/github/survivingwithandroid/Animal_Sound_Dataset_Edge_Impulse/blob/main/Arduino_Animal_Sound.ipynb\" target=\"_parent\"><img src=\"https://colab.research.google.com/assets/colab-badge.svg\" alt=\"Open In Colab\"/></a>"
      ]
    },
    {
      "cell_type": "markdown",
      "metadata": {
        "id": "AlUIBNeC353j"
      },
      "source": [
        "# Download the Audio dataset from Kaggle"
      ]
    },
    {
      "cell_type": "code",
      "metadata": {
        "id": "TZ9RhF955QdM"
      },
      "source": [
        "!pip install -q kaggle\n",
        "import os\n",
        "os.environ['KAGGLE_USERNAME']='francescoazzola'\n",
        "os.environ['KAGGLE_KEY']='1e47af3c13cb61af7f0ce955f79ecc63'\n",
        "\n",
        "\n",
        "# Audio dataset\n",
        "!kaggle datasets download -d mmoreaux/environmental-sound-classification-50\n",
        "!unzip environmental-sound-classification-50.zip\n",
        "\n",
        "\n"
      ],
      "execution_count": null,
      "outputs": []
    },
    {
      "cell_type": "code",
      "metadata": {
        "colab": {
          "base_uri": "https://localhost:8080/",
          "height": 204
        },
        "id": "VtrACKP_MugQ",
        "outputId": "a717d3bb-3111-45c5-81b6-3f59bcb17c50"
      },
      "source": [
        "import pandas as pd\n",
        "csv_labels = pd.read_csv(\"./esc50.csv\")\n",
        "csv_labels.head()"
      ],
      "execution_count": null,
      "outputs": [
        {
          "output_type": "execute_result",
          "data": {
            "text/html": [
              "<div>\n",
              "<style scoped>\n",
              "    .dataframe tbody tr th:only-of-type {\n",
              "        vertical-align: middle;\n",
              "    }\n",
              "\n",
              "    .dataframe tbody tr th {\n",
              "        vertical-align: top;\n",
              "    }\n",
              "\n",
              "    .dataframe thead th {\n",
              "        text-align: right;\n",
              "    }\n",
              "</style>\n",
              "<table border=\"1\" class=\"dataframe\">\n",
              "  <thead>\n",
              "    <tr style=\"text-align: right;\">\n",
              "      <th></th>\n",
              "      <th>filename</th>\n",
              "      <th>fold</th>\n",
              "      <th>target</th>\n",
              "      <th>category</th>\n",
              "      <th>esc10</th>\n",
              "      <th>src_file</th>\n",
              "      <th>take</th>\n",
              "    </tr>\n",
              "  </thead>\n",
              "  <tbody>\n",
              "    <tr>\n",
              "      <th>0</th>\n",
              "      <td>1-100032-A-0.wav</td>\n",
              "      <td>1</td>\n",
              "      <td>0</td>\n",
              "      <td>dog</td>\n",
              "      <td>True</td>\n",
              "      <td>100032</td>\n",
              "      <td>A</td>\n",
              "    </tr>\n",
              "    <tr>\n",
              "      <th>1</th>\n",
              "      <td>1-100038-A-14.wav</td>\n",
              "      <td>1</td>\n",
              "      <td>14</td>\n",
              "      <td>chirping_birds</td>\n",
              "      <td>False</td>\n",
              "      <td>100038</td>\n",
              "      <td>A</td>\n",
              "    </tr>\n",
              "    <tr>\n",
              "      <th>2</th>\n",
              "      <td>1-100210-A-36.wav</td>\n",
              "      <td>1</td>\n",
              "      <td>36</td>\n",
              "      <td>vacuum_cleaner</td>\n",
              "      <td>False</td>\n",
              "      <td>100210</td>\n",
              "      <td>A</td>\n",
              "    </tr>\n",
              "    <tr>\n",
              "      <th>3</th>\n",
              "      <td>1-100210-B-36.wav</td>\n",
              "      <td>1</td>\n",
              "      <td>36</td>\n",
              "      <td>vacuum_cleaner</td>\n",
              "      <td>False</td>\n",
              "      <td>100210</td>\n",
              "      <td>B</td>\n",
              "    </tr>\n",
              "    <tr>\n",
              "      <th>4</th>\n",
              "      <td>1-101296-A-19.wav</td>\n",
              "      <td>1</td>\n",
              "      <td>19</td>\n",
              "      <td>thunderstorm</td>\n",
              "      <td>False</td>\n",
              "      <td>101296</td>\n",
              "      <td>A</td>\n",
              "    </tr>\n",
              "  </tbody>\n",
              "</table>\n",
              "</div>"
            ],
            "text/plain": [
              "            filename  fold  target        category  esc10  src_file take\n",
              "0   1-100032-A-0.wav     1       0             dog   True    100032    A\n",
              "1  1-100038-A-14.wav     1      14  chirping_birds  False    100038    A\n",
              "2  1-100210-A-36.wav     1      36  vacuum_cleaner  False    100210    A\n",
              "3  1-100210-B-36.wav     1      36  vacuum_cleaner  False    100210    B\n",
              "4  1-101296-A-19.wav     1      19    thunderstorm  False    101296    A"
            ]
          },
          "metadata": {
            "tags": []
          },
          "execution_count": 2
        }
      ]
    },
    {
      "cell_type": "markdown",
      "metadata": {
        "id": "tkXeHow_8hEv"
      },
      "source": [
        "# Define labels"
      ]
    },
    {
      "cell_type": "code",
      "metadata": {
        "id": "Y089GTy_8gjY"
      },
      "source": [
        "# labels\n",
        "labels=['cow', 'dog', 'sheep']\n",
        "\n",
        "\n",
        "# path\n",
        "base_path = './audio/audio/16000'\n",
        "\n",
        "# output dir\n",
        "output_base_path = './edge_dataset'"
      ],
      "execution_count": null,
      "outputs": []
    },
    {
      "cell_type": "markdown",
      "metadata": {
        "id": "6LwNAiJs_CfR"
      },
      "source": [
        "# Generate the dataset"
      ]
    },
    {
      "cell_type": "code",
      "metadata": {
        "id": "72ZfNyEqM_hS"
      },
      "source": [
        "import shutil\n",
        "\n",
        "if not os.path.exists(output_base_path):\n",
        "    print (\"Create dir \" + output_base_path)\n",
        "    os.mkdir(output_base_path)\n",
        "\n",
        "filtered_labels = csv_labels[csv_labels.category.isin(labels)]\n",
        "for x in range(len(filtered_labels)):\n",
        "  label = filtered_labels.iloc[x]['category']\n",
        "  filename = filtered_labels.iloc[x]['filename']\n",
        "  print(\"Label: \" + label)\n",
        "  print(\"File name: \"  + filename)\n",
        "  output_path = output_base_path + \"/\" + label\n",
        "  if not os.path.exists(output_path):\n",
        "    print (\"Create dir \" + output_path)\n",
        "    os.mkdir(output_path)\n",
        "  src = base_path + \"/\" + filename\n",
        "  dest = output_path + \"/\" + filename\n",
        "  shutil.copyfile(src, dest)\n",
        "\n",
        "   "
      ],
      "execution_count": null,
      "outputs": []
    },
    {
      "cell_type": "markdown",
      "metadata": {
        "id": "KpNalYICgaau"
      },
      "source": [
        "# Download Keywords dataset and extract the noise dataset"
      ]
    },
    {
      "cell_type": "code",
      "metadata": {
        "id": "I2qFx94WatyC"
      },
      "source": [
        "!wget https://cdn.edgeimpulse.com/datasets/keywords2.zip\n",
        "# unzip the file\n",
        "!unzip keywords2.zip -d ./other_dataset"
      ],
      "execution_count": null,
      "outputs": []
    },
    {
      "cell_type": "code",
      "metadata": {
        "colab": {
          "base_uri": "https://localhost:8080/"
        },
        "id": "Ho5XTrYOfrBP",
        "outputId": "079e61a6-8223-45c8-fc82-4b35c9092fe5"
      },
      "source": [
        "import librosa\n",
        "import soundfile as sf\n",
        "import numpy as np\n",
        "\n",
        "# noise samples\n",
        "noise_samples = 120\n",
        "\n",
        "counter = 1\n",
        "\n",
        "noise_input_path = \"other_dataset/noise\";\n",
        "\n",
        "if not os.path.exists(output_base_path + \"/noise/\"):\n",
        "    print (\"Create dir \" + output_base_path + \"/noise/\")\n",
        "    os.mkdir(output_base_path + \"/noise/\")\n",
        "\n",
        "for filename in os.listdir(noise_input_path):\n",
        "  input_file_path = noise_input_path + \"/\" + filename\n",
        "  output_file_path = output_base_path + \"/noise/\" + filename\n",
        "  s, sr = librosa.load(input_file_path, sr=16000, mono=True)\n",
        " \n",
        "  \n",
        "  if (counter > noise_samples):\n",
        "    break;\n",
        "\n",
        "  counter = counter + 1;\n",
        "  sf.write(output_file_path, s, 16000)\n",
        "\n"
      ],
      "execution_count": null,
      "outputs": [
        {
          "output_type": "stream",
          "text": [
            "Create dir ./edge_dataset/noise/\n"
          ],
          "name": "stdout"
        }
      ]
    },
    {
      "cell_type": "markdown",
      "metadata": {
        "id": "mVfHzl4KFIjT"
      },
      "source": [
        "# Edge Impluse Dataset Upload"
      ]
    },
    {
      "cell_type": "markdown",
      "metadata": {
        "id": "dAjc4gKlGXON"
      },
      "source": [
        "## Install Edge Impulse CLI"
      ]
    },
    {
      "cell_type": "code",
      "metadata": {
        "id": "UHDkRAAuFO4-"
      },
      "source": [
        "!npm install -g --unsafe-perm edge-impulse-cli"
      ],
      "execution_count": null,
      "outputs": []
    },
    {
      "cell_type": "markdown",
      "metadata": {
        "id": "8ngR91wIGi5M"
      },
      "source": [
        "## Upload dataset"
      ]
    },
    {
      "cell_type": "code",
      "metadata": {
        "id": "3xIgp3G8Goq4",
        "colab": {
          "base_uri": "https://localhost:8080/"
        },
        "outputId": "11df7381-5c12-4465-a410-f47392cb6101"
      },
      "source": [
        "# API Key\n",
        "api_key = 'your_api_key'\n",
        "# labels.append('noise')\n",
        "labels = ['noise']\n",
        "for label in labels:\n",
        "  sample_dir = output_base_path + '/' + label + '/*.wav'\n",
        "  file_list = []\n",
        "  for filename in os.listdir(output_base_path + '/' + label ):\n",
        "    _, ext = os.path.splitext(filename)\n",
        "    if (ext.lower() == '.wav'):\n",
        "     file_list.append(filename)\n",
        " \n",
        "  print(\"Uploading files from \", sample_dir)\n",
        "  print(\"N. Samples \", len(file_list))\n",
        "\n",
        "  cmd = 'edge-impulse-uploader --api-key ' + api_key + ' --label ' + label + ' ' + sample_dir\n",
        "  os.system(cmd)\n",
        "\n",
        "print(\"Done!\");"
      ],
      "execution_count": null,
      "outputs": [
        {
          "output_type": "stream",
          "text": [
            "Uploading files from  ./edge_dataset/noise/*.wav\n",
            "N. Samples  120\n",
            "Done!\n"
          ],
          "name": "stdout"
        }
      ]
    },
    {
      "cell_type": "markdown",
      "metadata": {
        "id": "CC_Yvdp2Egl3"
      },
      "source": [
        "# Delete all dataset"
      ]
    },
    {
      "cell_type": "code",
      "metadata": {
        "id": "qEtpfC7AEl8Z"
      },
      "source": [
        "!rm -r ./edge_dataset"
      ],
      "execution_count": null,
      "outputs": []
    }
  ]
}